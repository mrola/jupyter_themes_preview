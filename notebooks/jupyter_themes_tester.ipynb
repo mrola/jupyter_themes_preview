{
 "cells": [
  {
   "cell_type": "markdown",
   "metadata": {},
   "source": [
    "<div align=\"Right\"><font size=\"1\">https://github.com/mrola/jupyter_themes_preview<br>Ola Söderström - 2018</font></div>"
   ]
  },
  {
   "cell_type": "markdown",
   "metadata": {},
   "source": [
    "-----\n",
    "\n",
    "<p align=\"center\"><font size=\"6\">Jupyter notebook for testing out different themes</font></p>\n",
    "\n",
    "-----"
   ]
  },
  {
   "cell_type": "markdown",
   "metadata": {},
   "source": [
    "# import libs"
   ]
  },
  {
   "cell_type": "code",
   "execution_count": 1,
   "metadata": {
    "ExecuteTime": {
     "end_time": "2018-05-23T10:09:58.380530Z",
     "start_time": "2018-05-23T10:09:58.164374Z"
    }
   },
   "outputs": [],
   "source": [
    "%matplotlib inline"
   ]
  },
  {
   "cell_type": "code",
   "execution_count": 2,
   "metadata": {
    "ExecuteTime": {
     "end_time": "2018-05-23T10:09:58.766506Z",
     "start_time": "2018-05-23T10:09:58.385219Z"
    }
   },
   "outputs": [],
   "source": [
    "import os\n",
    "import sys\n",
    "import numpy as np\n",
    "import pandas as pd\n",
    "\n",
    "import seaborn as sns\n",
    "import matplotlib as mpl\n",
    "import matplotlib.pyplot as plt\n",
    "\n",
    "from IPython.core.display import display, HTML\n",
    "from IPython.core.interactiveshell import InteractiveShell\n",
    "InteractiveShell.ast_node_interactivity = \"all\""
   ]
  },
  {
   "cell_type": "markdown",
   "metadata": {},
   "source": [
    "## Display version info"
   ]
  },
  {
   "cell_type": "code",
   "execution_count": 3,
   "metadata": {
    "ExecuteTime": {
     "end_time": "2018-05-23T10:09:58.927526Z",
     "start_time": "2018-05-23T10:09:58.768482Z"
    }
   },
   "outputs": [
    {
     "data": {
      "application/json": {
       "Software versions": [
        {
         "module": "Python",
         "version": "3.6.5 64bit [GCC 7.2.0]"
        },
        {
         "module": "IPython",
         "version": "6.3.1"
        },
        {
         "module": "OS",
         "version": "Linux 4.9.0 6 amd64 x86_64 with debian 9.4"
        },
        {
         "module": "wget",
         "version": "The 'wget' distribution was not found and is required by the application"
        },
        {
         "module": "pandas",
         "version": "0.23.0"
        },
        {
         "module": "numpy",
         "version": "1.14.2"
        }
       ]
      },
      "text/html": [
       "<table><tr><th>Software</th><th>Version</th></tr><tr><td>Python</td><td>3.6.5 64bit [GCC 7.2.0]</td></tr><tr><td>IPython</td><td>6.3.1</td></tr><tr><td>OS</td><td>Linux 4.9.0 6 amd64 x86_64 with debian 9.4</td></tr><tr><td>wget</td><td>The 'wget' distribution was not found and is required by the application</td></tr><tr><td>pandas</td><td>0.23.0</td></tr><tr><td>numpy</td><td>1.14.2</td></tr><tr><td colspan='2'>Wed May 23 12:09:58 2018 CEST</td></tr></table>"
      ],
      "text/latex": [
       "\\begin{tabular}{|l|l|}\\hline\n",
       "{\\bf Software} & {\\bf Version} \\\\ \\hline\\hline\n",
       "Python & 3.6.5 64bit [GCC 7.2.0] \\\\ \\hline\n",
       "IPython & 6.3.1 \\\\ \\hline\n",
       "OS & Linux 4.9.0 6 amd64 x86\\_64 with debian 9.4 \\\\ \\hline\n",
       "wget & The 'wget' distribution was not found and is required by the application \\\\ \\hline\n",
       "pandas & 0.23.0 \\\\ \\hline\n",
       "numpy & 1.14.2 \\\\ \\hline\n",
       "\\hline \\multicolumn{2}{|l|}{Wed May 23 12:09:58 2018 CEST} \\\\ \\hline\n",
       "\\end{tabular}\n"
      ],
      "text/plain": [
       "Software versions\n",
       "Python 3.6.5 64bit [GCC 7.2.0]\n",
       "IPython 6.3.1\n",
       "OS Linux 4.9.0 6 amd64 x86_64 with debian 9.4\n",
       "wget The 'wget' distribution was not found and is required by the application\n",
       "pandas 0.23.0\n",
       "numpy 1.14.2\n",
       "Wed May 23 12:09:58 2018 CEST"
      ]
     },
     "execution_count": 3,
     "metadata": {},
     "output_type": "execute_result"
    }
   ],
   "source": [
    "try:\n",
    "    %load_ext version_information\n",
    "    %version_information wget, pandas, numpy\n",
    "except ModuleNotFoundError:\n",
    "    print(\"Module \\\"version_information\\\" not found, install using \\\"pip install version_information\\\"\")\n",
    "    pass"
   ]
  },
  {
   "cell_type": "markdown",
   "metadata": {},
   "source": [
    "## Check requirements"
   ]
  },
  {
   "cell_type": "code",
   "execution_count": 4,
   "metadata": {
    "ExecuteTime": {
     "end_time": "2018-05-23T10:09:58.933114Z",
     "start_time": "2018-05-23T10:09:58.929426Z"
    }
   },
   "outputs": [],
   "source": [
    "if not (sys.version_info.major > 2 and sys.version_info.minor > 2):\n",
    "    print(\"Notebook requires Python 3.2 or higher\")"
   ]
  },
  {
   "cell_type": "markdown",
   "metadata": {},
   "source": [
    "# Try new style css"
   ]
  },
  {
   "cell_type": "markdown",
   "metadata": {},
   "source": [
    "## Fetch css and store as new profile"
   ]
  },
  {
   "cell_type": "code",
   "execution_count": 5,
   "metadata": {
    "ExecuteTime": {
     "end_time": "2018-05-23T10:09:58.950541Z",
     "start_time": "2018-05-23T10:09:58.938591Z"
    }
   },
   "outputs": [],
   "source": [
    "def mynewstyle(new_style_url, profilename=\"newcoolprofile\"):\n",
    "    '''Creates directory and custom.css for new notebook style.\n",
    "    \n",
    "    Run HTML command displayed at the end of execution to apply new style.\n",
    "    <style> tags will be inserted  if missing.\n",
    "    To revert to default style, comment out HTML command using \"#\".\n",
    "    \n",
    "    Parameters:\n",
    "    new_style_url : URL to css file to download\n",
    "    profilename : Name of new profile (arbitrary)\n",
    "    '''\n",
    "    \n",
    "    use_new_style = True\n",
    "\n",
    "    print(\"Will use {}\".format(os.path.basename(new_style_url)))\n",
    "    m = !ipython locate profile\n",
    "    print(\"{:35} {}\".format(\"Default profile location:\", m[0])) \n",
    "\n",
    "    !ipython profile create $profilename\n",
    "    m1 = !ipython locate profile $profilename\n",
    "    print(\"{:35} {}\".format(\"New profile directory created\", m1[0]))\n",
    "\n",
    "    p=!ipython locate profile $profilename\n",
    "    p = p[0] + '/static/custom/'\n",
    "\n",
    "    if os.path.exists(p) is True:\n",
    "        print(\"{:35} {}\".format(\"Directory already exists:\", p))\n",
    "    else:\n",
    "        print(\"Creating {}\".format(p))\n",
    "        os.makedirs(p, exist_ok=True)\n",
    "\n",
    "    ccss = p + 'custom.css'\n",
    "    \n",
    "    print()\n",
    "    !wget $new_style_url -nv -O $ccss\n",
    "    \n",
    "    styletag = False\n",
    "    with open(ccss, 'r+') as f:\n",
    "        for line in f.readlines():\n",
    "            if 'DOCTYPE' in line:\n",
    "                print(\"This appears to be a html document, need standalone css.\")\n",
    "                return\n",
    "            elif '<style>' in line:\n",
    "                styletag = True        \n",
    "                break\n",
    "                \n",
    "    if styletag is False:\n",
    "#        print(\"\\nHTML <style> tags appears to be missing in custom.css, will add...\")\n",
    "        !sed -i '1s/^/\\<style\\>/' $ccss\n",
    "        !echo \"<\\style>\" >> $ccss\n",
    "\n",
    "    html_line = 'HTML(open(\\'{}\\', \\'r\\').read())'.format(ccss)\n",
    "    print(\"\\nNow you need to execute the follwing line in single cell: \\n {}\".format(html_line))"
   ]
  },
  {
   "cell_type": "markdown",
   "metadata": {},
   "source": [
    "### Set URL"
   ]
  },
  {
   "cell_type": "markdown",
   "metadata": {},
   "source": [
    "Just some random themes I picked up for testing."
   ]
  },
  {
   "cell_type": "code",
   "execution_count": 17,
   "metadata": {
    "ExecuteTime": {
     "end_time": "2018-05-23T11:18:00.974151Z",
     "start_time": "2018-05-23T11:18:00.965473Z"
    }
   },
   "outputs": [
    {
     "name": "stdout",
     "output_type": "stream",
     "text": [
      "Will be using css from https://raw.githubusercontent.com/neilpanchal/spinzero-jupyter-theme/master/custom.css\n"
     ]
    }
   ],
   "source": [
    "#new_style_url='https://raw.githubusercontent.com/dunovank/jupyter-themes/master/jupyterthemes/styles/compiled/monokai.css'\n",
    "new_style_url='https://raw.githubusercontent.com/neilpanchal/spinzero-jupyter-theme/master/custom.css'\n",
    "print(\"Will be using css from {}\".format(new_style_url))"
   ]
  },
  {
   "cell_type": "markdown",
   "metadata": {},
   "source": [
    "### Run script"
   ]
  },
  {
   "cell_type": "code",
   "execution_count": 18,
   "metadata": {
    "ExecuteTime": {
     "end_time": "2018-05-23T11:18:04.892491Z",
     "start_time": "2018-05-23T11:18:02.990924Z"
    }
   },
   "outputs": [
    {
     "name": "stdout",
     "output_type": "stream",
     "text": [
      "Will use custom.css\n",
      "Default profile location:           /home/ola/.ipython/profile_default\n",
      "New profile directory created       /home/ola/.ipython/profile_newprofile_34\n",
      "Directory already exists:           /home/ola/.ipython/profile_newprofile_34/static/custom/\n",
      "\n",
      "2018-05-23 13:18:04 URL:https://raw.githubusercontent.com/neilpanchal/spinzero-jupyter-theme/master/custom.css [13315/13315] -> \"/home/ola/.ipython/profile_newprofile_34/static/custom/custom.css\" [1]\n",
      "\n",
      "Now you need to execute the follwing line in single cell: \n",
      " HTML(open('/home/ola/.ipython/profile_newprofile_34/static/custom/custom.css', 'r').read())\n"
     ]
    }
   ],
   "source": [
    "mynewstyle(new_style_url, profilename=\"newprofile_34\")"
   ]
  },
  {
   "cell_type": "markdown",
   "metadata": {},
   "source": [
    "## Activate new style"
   ]
  },
  {
   "cell_type": "code",
   "execution_count": 16,
   "metadata": {
    "ExecuteTime": {
     "end_time": "2018-05-23T10:15:31.732054Z",
     "start_time": "2018-05-23T10:15:31.725895Z"
    }
   },
   "outputs": [],
   "source": [
    "HTML(open('/home/ola/.ipython/profile_newprofile_34/static/custom/custom.css', 'r').read())"
   ]
  },
  {
   "cell_type": "markdown",
   "metadata": {
    "ExecuteTime": {
     "end_time": "2018-05-22T12:45:13.162488Z",
     "start_time": "2018-05-22T12:45:13.155202Z"
    }
   },
   "source": [
    "# Check style on some random stuff"
   ]
  },
  {
   "cell_type": "code",
   "execution_count": 9,
   "metadata": {
    "ExecuteTime": {
     "end_time": "2018-05-23T10:14:44.616349Z",
     "start_time": "2018-05-23T10:14:44.569874Z"
    }
   },
   "outputs": [
    {
     "data": {
      "text/html": [
       "<div>\n",
       "<style scoped>\n",
       "    .dataframe tbody tr th:only-of-type {\n",
       "        vertical-align: middle;\n",
       "    }\n",
       "\n",
       "    .dataframe tbody tr th {\n",
       "        vertical-align: top;\n",
       "    }\n",
       "\n",
       "    .dataframe thead th {\n",
       "        text-align: right;\n",
       "    }\n",
       "</style>\n",
       "<table border=\"1\" class=\"dataframe\">\n",
       "  <thead>\n",
       "    <tr style=\"text-align: right;\">\n",
       "      <th></th>\n",
       "      <th>a</th>\n",
       "      <th>b</th>\n",
       "      <th>c</th>\n",
       "      <th>d</th>\n",
       "      <th>e</th>\n",
       "    </tr>\n",
       "  </thead>\n",
       "  <tbody>\n",
       "    <tr>\n",
       "      <th>0</th>\n",
       "      <td>This is some text</td>\n",
       "      <td>6</td>\n",
       "      <td>6</td>\n",
       "      <td>4</td>\n",
       "      <td>9</td>\n",
       "    </tr>\n",
       "    <tr>\n",
       "      <th>1</th>\n",
       "      <td>9</td>\n",
       "      <td>7</td>\n",
       "      <td>7</td>\n",
       "      <td>2</td>\n",
       "      <td>3</td>\n",
       "    </tr>\n",
       "    <tr>\n",
       "      <th>2</th>\n",
       "      <td>3</td>\n",
       "      <td>4</td>\n",
       "      <td>1</td>\n",
       "      <td>0</td>\n",
       "      <td>9</td>\n",
       "    </tr>\n",
       "    <tr>\n",
       "      <th>3</th>\n",
       "      <td>2</td>\n",
       "      <td>0</td>\n",
       "      <td>0</td>\n",
       "      <td>2</td>\n",
       "      <td>7</td>\n",
       "    </tr>\n",
       "    <tr>\n",
       "      <th>4</th>\n",
       "      <td>2</td>\n",
       "      <td>4</td>\n",
       "      <td>4</td>\n",
       "      <td>4</td>\n",
       "      <td>2</td>\n",
       "    </tr>\n",
       "  </tbody>\n",
       "</table>\n",
       "</div>"
      ],
      "text/plain": [
       "                   a  b  c  d  e\n",
       "0  This is some text  6  6  4  9\n",
       "1                  9  7  7  2  3\n",
       "2                  3  4  1  0  9\n",
       "3                  2  0  0  2  7\n",
       "4                  2  4  4  4  2"
      ]
     },
     "execution_count": 9,
     "metadata": {},
     "output_type": "execute_result"
    }
   ],
   "source": [
    "df = pd.DataFrame(np.random.randint(low=0, high=10, size=(5, 5)),columns=['a', 'b', 'c', 'd', 'e'])\n",
    "df.loc[0, 'a'] = \"This is some text\"\n",
    "df"
   ]
  },
  {
   "cell_type": "markdown",
   "metadata": {},
   "source": [
    "## This is heading 2"
   ]
  },
  {
   "cell_type": "markdown",
   "metadata": {
    "ExecuteTime": {
     "end_time": "2018-05-22T12:46:45.104405Z",
     "start_time": "2018-05-22T12:46:45.101198Z"
    }
   },
   "source": [
    "### This is heading 3"
   ]
  },
  {
   "cell_type": "markdown",
   "metadata": {},
   "source": [
    "This is markdown text."
   ]
  },
  {
   "cell_type": "markdown",
   "metadata": {},
   "source": [
    "# Viz"
   ]
  },
  {
   "cell_type": "code",
   "execution_count": 10,
   "metadata": {
    "ExecuteTime": {
     "end_time": "2018-05-23T10:14:46.536351Z",
     "start_time": "2018-05-23T10:14:46.529920Z"
    }
   },
   "outputs": [],
   "source": [
    "def sinplot(flip=1):\n",
    "    x = np.linspace(0, 14, 100)\n",
    "    for i in range(1, 7):\n",
    "        plt.plot(x, np.sin(x + i * .5) * (7 - i) * flip)"
   ]
  },
  {
   "cell_type": "code",
   "execution_count": 11,
   "metadata": {
    "ExecuteTime": {
     "end_time": "2018-05-23T10:14:47.008067Z",
     "start_time": "2018-05-23T10:14:46.816461Z"
    }
   },
   "outputs": [
    {
     "data": {
      "image/png": "[encoded data removed]",
      "text/plain": [
       "<Figure size 432x288 with 1 Axes>"
      ]
     },
     "metadata": {},
     "output_type": "display_data"
    }
   ],
   "source": [
    "sinplot()\n",
    "sns.set_style(\"ticks\")\n",
    "sns.despine(offset=10, trim=True)"
   ]
  },
  {
   "cell_type": "markdown",
   "metadata": {},
   "source": [
    "# Setting individual styles using display(HTML)"
   ]
  },
  {
   "cell_type": "code",
   "execution_count": null,
   "metadata": {
    "ExecuteTime": {
     "end_time": "2018-05-22T12:58:16.124481Z",
     "start_time": "2018-05-22T12:58:16.113756Z"
    }
   },
   "outputs": [],
   "source": [
    "display(HTML(\"<style>.cell { font-size: 12px; width:900px }</style>\"))\n",
    "display(HTML(\"<style>.input { margin-top:2em, margin-bottom:2em }</style>\"))\n",
    "#display(HTML(\"<style>.div.output_wrapper { margin-top:2em, margin-bottom:2em }</style>\"))\n",
    "#display(HTML(\"<style>.rendered_html { background-color: white; }</style>\"))\n",
    "#display(HTML(\"<style>.text_cell_render { font-size: 15px; }</style>\"))\n",
    "#display(HTML(\"<style>.text_cell { font-size: 15px; }</style>\"))\n",
    "#display(HTML(\"<style>.cell { font-size: 12px; max-width:000px }</style>\"))\n",
    "#display(HTML(\"<style>.CodeMirror { background-color: #2b303b; }</style>\"))\n",
    "#display(HTML(\"<style>.cell { background-color: #2b303b; }</style>\"))"
   ]
  }
 ],
 "metadata": {
  "kernelspec": {
   "display_name": "Python 3",
   "language": "python",
   "name": "python3"
  },
  "language_info": {
   "codemirror_mode": {
    "name": "ipython",
    "version": 3
   },
   "file_extension": ".py",
   "mimetype": "text/x-python",
   "name": "python",
   "nbconvert_exporter": "python",
   "pygments_lexer": "ipython3",
   "version": "3.6.5"
  },
  "toc": {
   "base_numbering": 1,
   "nav_menu": {},
   "number_sections": true,
   "sideBar": true,
   "skip_h1_title": false,
   "title_cell": "Table of Contents",
   "title_sidebar": "Contents",
   "toc_cell": false,
   "toc_position": {},
   "toc_section_display": true,
   "toc_window_display": false
  }
 },
 "nbformat": 4,
 "nbformat_minor": 2
}
